{
  "nbformat": 4,
  "nbformat_minor": 0,
  "metadata": {
    "colab": {
      "name": "Binary seach tree with n log n time complexity",
      "provenance": [],
      "collapsed_sections": []
    },
    "kernelspec": {
      "name": "python3",
      "display_name": "Python 3"
    },
    "language_info": {
      "name": "python"
    }
  },
  "cells": [
    {
      "cell_type": "code",
      "metadata": {
        "id": "IFEFs2M9wWMz",
        "colab": {
          "base_uri": "https://localhost:8080/"
        },
        "outputId": "b89a6b7d-095c-418f-804d-1a5e1eebadb1"
      },
      "source": [
        "#O(n)  Time Complexity\n",
        "list=[1, 5, 3, 9, 2, 4, 6, 7, 8]\n",
        "x=3\n",
        "for i in range(0,len(list),2):\n",
        "  if x==list[i]:\n",
        "    print(i)"
      ],
      "execution_count": 14,
      "outputs": [
        {
          "output_type": "stream",
          "text": [
            "2\n"
          ],
          "name": "stdout"
        }
      ]
    },
    {
      "cell_type": "markdown",
      "metadata": {
        "id": "Th4If0l8r4_R"
      },
      "source": [
        "**O(log n) Time complexity\n",
        "step-1 Calculate the middle of the list.\n",
        "step-2 If the searched value is lower than the value in the middle of the list, set a new right bounder.\n",
        "step-3 If the searched value is higher than the value in the middle of the list, set a new left bounder.\n",
        "step-4 If the search value is equal to the value in the middle of the list, return the middle (the index).\n",
        "step-5 Repeat the steps above until the value is found or the left bounder is equal or higher the right bounder.**"
      ]
    },
    {
      "cell_type": "code",
      "metadata": {
        "colab": {
          "base_uri": "https://localhost:8080/"
        },
        "id": "-13-Fx_Qbowo",
        "outputId": "8dafc6ee-b4da-4a56-e6b0-e4ca3e43c7a4"
      },
      "source": [
        "def binary(data,value):\n",
        "  n=len(data)\n",
        "  left=0\n",
        "  right=n-1\n",
        "  while left<=right:\n",
        "    middle=(left+right)//2\n",
        "    if value<data[middle]:\n",
        "      right=middle-1\n",
        "    elif value> data[middle]:\n",
        "      left=middle+1\n",
        "    else:\n",
        "      return middle\n",
        "    \n",
        "list=[1, 2, 3, 4, 5, 6, 7, 8, 9]\n",
        "print(binary(list,8))"
      ],
      "execution_count": 76,
      "outputs": [
        {
          "output_type": "stream",
          "text": [
            "7\n"
          ],
          "name": "stdout"
        }
      ]
    },
    {
      "cell_type": "code",
      "metadata": {
        "colab": {
          "base_uri": "https://localhost:8080/"
        },
        "id": "08wGHViYpYVn",
        "outputId": "8c3980af-53f8-448c-f0a1-d610e5ff38a3"
      },
      "source": [
        "#This algorithm uses n log n time complexity for searching an element.\n",
        "list1=[8]\n",
        "for i in list1:\n",
        "  print(binary(list,i))"
      ],
      "execution_count": 85,
      "outputs": [
        {
          "output_type": "stream",
          "text": [
            "7\n"
          ],
          "name": "stdout"
        }
      ]
    }
  ]
}